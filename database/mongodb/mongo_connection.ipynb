{
 "cells": [
  {
   "cell_type": "code",
   "execution_count": 1,
   "metadata": {
    "collapsed": true
   },
   "outputs": [],
   "source": [
    "from pymongo import MongoClient"
   ]
  },
  {
   "cell_type": "code",
   "execution_count": 2,
   "outputs": [
    {
     "name": "stdout",
     "output_type": "stream",
     "text": [
      "MongoClient(host=['loveyou6.cn:30017'], document_class=dict, tz_aware=False, connect=True)\n"
     ]
    }
   ],
   "source": [
    "uri = 'mongodb://localhost:27017'\n",
    "client = MongoClient(uri)\n",
    "print(client)\n",
    "\n",
    "# 创建用户testUser\n",
    "# db0 = client[\"admin\"]\n",
    "# db0.authenticate('admin', 'admin')\n",
    "# db0.command('createUser', 'testUser', pwd='password', roles=[{\n",
    "#     'role': 'readWrite',\n",
    "#     'db': 'testDB'\n",
    "# }])"
   ],
   "metadata": {
    "collapsed": false,
    "pycharm": {
     "name": "#%%\n"
    }
   }
  },
  {
   "cell_type": "code",
   "execution_count": 4,
   "outputs": [],
   "source": [
    "# 连接和认证用户root\n",
    "db = client['admin']\n",
    "db.authenticate(\"root\", \"111111\", mechanism='SCRAM-SHA-1')\n",
    "\n",
    "user_coll = client[\"mock\"][\"root\"]\n",
    "\n",
    "new_user = {\"username\": \"nina\", \"password\": \"xxxx\", \"email\": \"123456@qq.com \"}\n",
    "result = user_coll.insert_one(new_user)\n",
    "\n",
    "res = user_coll.update_one({'username': 'nina'},\n",
    "                            {'$set': {'phone': '123456789'}})\n",
    "\n",
    "client.close()"
   ],
   "metadata": {
    "collapsed": false,
    "pycharm": {
     "name": "#%%\n"
    }
   }
  },
  {
   "cell_type": "code",
   "execution_count": null,
   "outputs": [],
   "source": [],
   "metadata": {
    "collapsed": false,
    "pycharm": {
     "name": "#%%\n"
    }
   }
  }
 ],
 "metadata": {
  "kernelspec": {
   "display_name": "Python 3",
   "language": "python",
   "name": "python3"
  },
  "language_info": {
   "codemirror_mode": {
    "name": "ipython",
    "version": 2
   },
   "file_extension": ".py",
   "mimetype": "text/x-python",
   "name": "python",
   "nbconvert_exporter": "python",
   "pygments_lexer": "ipython2",
   "version": "2.7.6"
  }
 },
 "nbformat": 4,
 "nbformat_minor": 0
}