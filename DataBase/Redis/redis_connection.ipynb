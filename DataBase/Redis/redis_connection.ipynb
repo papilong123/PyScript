{
 "cells": [
  {
   "cell_type": "code",
   "execution_count": null,
   "metadata": {
    "collapsed": true
   },
   "outputs": [],
   "source": [
    "import redis"
   ]
  },
  {
   "cell_type": "code",
   "execution_count": null,
   "outputs": [],
   "source": [
    "# redis-py提供两个类Redis和StrictRedis用于实现Redis的命令\n",
    "# StrictRedis用于实现大部分官方的命令，并使用官方的语法和命令（比如，SET命令对应与StrictRedis.set方法）\n",
    "# Redis是StrictRedis的子类，用于向后兼容旧版本的redis-py\n",
    "r = redis.Redis(host='127.0.0.1', port=30379, db=0, password=111111)\n",
    "sr = redis.StrictRedis()\n",
    "\n",
    "# 默认python3返回字节数组，python2返回字符串\n",
    "r.set('a', 'b')\n",
    "print(r.get('a'))\n",
    "r.rpush('mylist', 'one')\n",
    "r.rpop('mylist')"
   ],
   "metadata": {
    "collapsed": false,
    "pycharm": {
     "name": "#%% 两类连接和简单操作\n"
    }
   }
  },
  {
   "cell_type": "code",
   "execution_count": null,
   "outputs": [],
   "source": [
    "# redis-py使用connection pool来管理对一个redis server的所有连接，避免每次建立、释放连接的开销\n",
    "# 默认，每个Redis实例都会维护一个自己的连接池\n",
    "# 可以直接建立一个连接池，然后作为参数Redis，这样就可以实现多个Redis实例共享一个连接池\n",
    "shared_pool = redis.ConnectionPool(host='127.0.0.1', port=30379)\n",
    "\n",
    "rp = redis.Redis(connection_pool=shared_pool)\n",
    "rp.set('one', 'first')\n",
    "rp.set('two', 'second')\n",
    "print(rp.get('one'))\n",
    "print(rp.get('two'))"
   ],
   "metadata": {
    "collapsed": false,
    "pycharm": {
     "name": "#%% 连接池\n"
    }
   }
  },
  {
   "cell_type": "code",
   "execution_count": null,
   "outputs": [],
   "source": [
    "# 可以在一次请求中执行多个命令，这样避免了多次的往返时延。\n",
    "pool = redis.ConnectionPool(host='127.0.0.1', port=9212)\n",
    "rinstance = redis.Redis(connection_pool=pool)\n",
    "pipe = rinstance.pipeline()\n",
    "\n",
    "pipe.set('one', 'first')\n",
    "pipe.set('two', 'second')\n",
    "pipe.execute()\n",
    "\n",
    "pipe.set('one', 'first').rpush('list', 'hello').rpush('list', 'world').execute()"
   ],
   "metadata": {
    "collapsed": false,
    "pycharm": {
     "name": "#%% redis管道机制\n"
    }
   }
  },
  {
   "cell_type": "code",
   "execution_count": null,
   "outputs": [],
   "source": [
    "pool = redis.ConnectionPool(host='127.0.0.1', port=9212)\n",
    "r = redis.Redis(connection_pool=pool)\n",
    "# redis-py默认在一次pipeline中的操作是原子的，要改变这种方式，可以传入transaction=False\n",
    "pipe_not_automic = r.pipeline(transaction=False)"
   ],
   "metadata": {
    "collapsed": false,
    "pycharm": {
     "name": "#%% 改变管道的原子性\n"
    }
   }
  },
  {
   "cell_type": "code",
   "execution_count": null,
   "outputs": [],
   "source": [
    "pool = redis.ConnectionPool(host='127.0.0.1', port=9212)\n",
    "r1 = redis.Redis(connection_pool=pool)\n",
    "\n",
    "try:\n",
    "    pipe = r.pipeline()\n",
    "    pipe.watch('k')\n",
    "\n",
    "    pipe.set('k', '2')\n",
    "    pipe.zadd('zk', 'aaa')\n",
    "    pipe.execute()\n",
    "except Exception as e:\n",
    "    pipe.unwatch()\n",
    "    print(e)"
   ],
   "metadata": {
    "collapsed": false,
    "pycharm": {
     "name": "#%% 事务watch与管道\n"
    }
   }
  }
 ],
 "metadata": {
  "kernelspec": {
   "display_name": "Python 3",
   "language": "python",
   "name": "python3"
  },
  "language_info": {
   "codemirror_mode": {
    "name": "ipython",
    "version": 2
   },
   "file_extension": ".py",
   "mimetype": "text/x-python",
   "name": "python",
   "nbconvert_exporter": "python",
   "pygments_lexer": "ipython2",
   "version": "2.7.6"
  }
 },
 "nbformat": 4,
 "nbformat_minor": 0
}