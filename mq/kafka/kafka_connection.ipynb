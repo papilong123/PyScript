{
 "cells": [
  {
   "cell_type": "code",
   "execution_count": 2,
   "metadata": {
    "collapsed": true
   },
   "outputs": [],
   "source": [
    "import json\n",
    "import time\n",
    "import datetime\n",
    "\n",
    "import config\n",
    "from kafka import KafkaProducer\n",
    "from kafka import KafkaConsumer"
   ]
  },
  {
   "cell_type": "markdown",
   "source": [
    "https://www.kingname.info/2020/03/23/operate-kafka-by-python/\n",
    "https://zhuanlan.zhihu.com/p/38330574"
   ],
   "metadata": {
    "collapsed": false,
    "pycharm": {
     "name": "#%% md\n"
    }
   }
  },
  {
   "cell_type": "code",
   "execution_count": 4,
   "outputs": [
    {
     "name": "stdout",
     "output_type": "stream",
     "text": [
      "RecordMetadata(topic='howtousekafka', partition=0, topic_partition=TopicPartition(topic='howtousekafka', partition=0), offset=3, timestamp=1625884489936, log_start_offset=0, checksum=None, serialized_key_size=-1, serialized_value_size=39, serialized_header_size=-1)\n",
      "RecordMetadata(topic='howtousekafka', partition=0, topic_partition=TopicPartition(topic='howtousekafka', partition=0), offset=4, timestamp=1625884489944, log_start_offset=0, checksum=None, serialized_key_size=-1, serialized_value_size=39, serialized_header_size=-1)\n"
     ]
    }
   ],
   "source": [
    "producer = KafkaProducer(bootstrap_servers=config.SERVER,\n",
    "                         value_serializer=lambda m: json.dumps(m).encode(),\n",
    "                         )\n",
    "# producer = KafkaProducer(bootstrap_servers=config.SERVER,\n",
    "#                          value_serializer=lambda m: json.dumps(m).encode(),\n",
    "#                          security_protocol='SASL_PLAINTEXT',\n",
    "#                          sasl_mechanism='PLAIN',\n",
    "#                          sasl_plain_username=config.USERNAME,\n",
    "#                          sasl_plain_password=config.PASSWORD)\n",
    "\n",
    "for i in range(2):\n",
    "    data = {'num': i, 'ts': datetime.datetime.now().strftime('%Y-%m-%d %H:%M:%S')}\n",
    "    future = producer.send(config.TOPIC, data)\n",
    "    result = future.get(timeout= 1)\n",
    "    print(result)\n",
    "\n",
    "for i in range(2):\n",
    "    data = {'num': i, 'ts': datetime.datetime.now().strftime('%Y-%m-%d %H:%M:%S')}\n",
    "    producer.send(config.TOPIC, data)\n",
    "    time.sleep(1)"
   ],
   "metadata": {
    "collapsed": false,
    "pycharm": {
     "name": "#%% 生产者\n"
    }
   }
  },
  {
   "cell_type": "code",
   "execution_count": 5,
   "outputs": [
    {
     "name": "stdout",
     "output_type": "stream",
     "text": [
      "b'{\"num\": 0, \"ts\": \"2021-07-10 10:34:49\"}'\n",
      "b'{\"num\": 1, \"ts\": \"2021-07-10 10:34:49\"}'\n",
      "b'{\"num\": 0, \"ts\": \"2021-07-10 10:34:49\"}'\n",
      "b'{\"num\": 1, \"ts\": \"2021-07-10 10:34:50\"}'\n"
     ]
    },
    {
     "ename": "KeyboardInterrupt",
     "evalue": "",
     "output_type": "error",
     "traceback": [
      "\u001B[1;31m---------------------------------------------------------------------------\u001B[0m",
      "\u001B[1;31mKeyboardInterrupt\u001B[0m                         Traceback (most recent call last)",
      "\u001B[1;32m<ipython-input-5-280faf4e7c20>\u001B[0m in \u001B[0;36m<module>\u001B[1;34m\u001B[0m\n\u001B[0;32m      3\u001B[0m                          \u001B[0mgroup_id\u001B[0m\u001B[1;33m=\u001B[0m\u001B[1;34m'test'\u001B[0m\u001B[1;33m,\u001B[0m\u001B[1;33m\u001B[0m\u001B[1;33m\u001B[0m\u001B[0m\n\u001B[0;32m      4\u001B[0m                          auto_offset_reset='earliest')\n\u001B[1;32m----> 5\u001B[1;33m \u001B[1;32mfor\u001B[0m \u001B[0mmsg\u001B[0m \u001B[1;32min\u001B[0m \u001B[0mconsumer\u001B[0m\u001B[1;33m:\u001B[0m\u001B[1;33m\u001B[0m\u001B[1;33m\u001B[0m\u001B[0m\n\u001B[0m\u001B[0;32m      6\u001B[0m     \u001B[0mprint\u001B[0m\u001B[1;33m(\u001B[0m\u001B[0mmsg\u001B[0m\u001B[1;33m.\u001B[0m\u001B[0mvalue\u001B[0m\u001B[1;33m)\u001B[0m\u001B[1;33m\u001B[0m\u001B[1;33m\u001B[0m\u001B[0m\n",
      "\u001B[1;32mc:\\users\\a\\software\\python38\\lib\\site-packages\\kafka\\consumer\\group.py\u001B[0m in \u001B[0;36m__next__\u001B[1;34m(self)\u001B[0m\n\u001B[0;32m   1191\u001B[0m             \u001B[1;32mreturn\u001B[0m \u001B[0mself\u001B[0m\u001B[1;33m.\u001B[0m\u001B[0mnext_v1\u001B[0m\u001B[1;33m(\u001B[0m\u001B[1;33m)\u001B[0m\u001B[1;33m\u001B[0m\u001B[1;33m\u001B[0m\u001B[0m\n\u001B[0;32m   1192\u001B[0m         \u001B[1;32melse\u001B[0m\u001B[1;33m:\u001B[0m\u001B[1;33m\u001B[0m\u001B[1;33m\u001B[0m\u001B[0m\n\u001B[1;32m-> 1193\u001B[1;33m             \u001B[1;32mreturn\u001B[0m \u001B[0mself\u001B[0m\u001B[1;33m.\u001B[0m\u001B[0mnext_v2\u001B[0m\u001B[1;33m(\u001B[0m\u001B[1;33m)\u001B[0m\u001B[1;33m\u001B[0m\u001B[1;33m\u001B[0m\u001B[0m\n\u001B[0m\u001B[0;32m   1194\u001B[0m \u001B[1;33m\u001B[0m\u001B[0m\n\u001B[0;32m   1195\u001B[0m     \u001B[1;32mdef\u001B[0m \u001B[0mnext_v2\u001B[0m\u001B[1;33m(\u001B[0m\u001B[0mself\u001B[0m\u001B[1;33m)\u001B[0m\u001B[1;33m:\u001B[0m\u001B[1;33m\u001B[0m\u001B[1;33m\u001B[0m\u001B[0m\n",
      "\u001B[1;32mc:\\users\\a\\software\\python38\\lib\\site-packages\\kafka\\consumer\\group.py\u001B[0m in \u001B[0;36mnext_v2\u001B[1;34m(self)\u001B[0m\n\u001B[0;32m   1199\u001B[0m                 \u001B[0mself\u001B[0m\u001B[1;33m.\u001B[0m\u001B[0m_iterator\u001B[0m \u001B[1;33m=\u001B[0m \u001B[0mself\u001B[0m\u001B[1;33m.\u001B[0m\u001B[0m_message_generator_v2\u001B[0m\u001B[1;33m(\u001B[0m\u001B[1;33m)\u001B[0m\u001B[1;33m\u001B[0m\u001B[1;33m\u001B[0m\u001B[0m\n\u001B[0;32m   1200\u001B[0m             \u001B[1;32mtry\u001B[0m\u001B[1;33m:\u001B[0m\u001B[1;33m\u001B[0m\u001B[1;33m\u001B[0m\u001B[0m\n\u001B[1;32m-> 1201\u001B[1;33m                 \u001B[1;32mreturn\u001B[0m \u001B[0mnext\u001B[0m\u001B[1;33m(\u001B[0m\u001B[0mself\u001B[0m\u001B[1;33m.\u001B[0m\u001B[0m_iterator\u001B[0m\u001B[1;33m)\u001B[0m\u001B[1;33m\u001B[0m\u001B[1;33m\u001B[0m\u001B[0m\n\u001B[0m\u001B[0;32m   1202\u001B[0m             \u001B[1;32mexcept\u001B[0m \u001B[0mStopIteration\u001B[0m\u001B[1;33m:\u001B[0m\u001B[1;33m\u001B[0m\u001B[1;33m\u001B[0m\u001B[0m\n\u001B[0;32m   1203\u001B[0m                 \u001B[0mself\u001B[0m\u001B[1;33m.\u001B[0m\u001B[0m_iterator\u001B[0m \u001B[1;33m=\u001B[0m \u001B[1;32mNone\u001B[0m\u001B[1;33m\u001B[0m\u001B[1;33m\u001B[0m\u001B[0m\n",
      "\u001B[1;32mc:\\users\\a\\software\\python38\\lib\\site-packages\\kafka\\consumer\\group.py\u001B[0m in \u001B[0;36m_message_generator_v2\u001B[1;34m(self)\u001B[0m\n\u001B[0;32m   1114\u001B[0m     \u001B[1;32mdef\u001B[0m \u001B[0m_message_generator_v2\u001B[0m\u001B[1;33m(\u001B[0m\u001B[0mself\u001B[0m\u001B[1;33m)\u001B[0m\u001B[1;33m:\u001B[0m\u001B[1;33m\u001B[0m\u001B[1;33m\u001B[0m\u001B[0m\n\u001B[0;32m   1115\u001B[0m         \u001B[0mtimeout_ms\u001B[0m \u001B[1;33m=\u001B[0m \u001B[1;36m1000\u001B[0m \u001B[1;33m*\u001B[0m \u001B[1;33m(\u001B[0m\u001B[0mself\u001B[0m\u001B[1;33m.\u001B[0m\u001B[0m_consumer_timeout\u001B[0m \u001B[1;33m-\u001B[0m \u001B[0mtime\u001B[0m\u001B[1;33m.\u001B[0m\u001B[0mtime\u001B[0m\u001B[1;33m(\u001B[0m\u001B[1;33m)\u001B[0m\u001B[1;33m)\u001B[0m\u001B[1;33m\u001B[0m\u001B[1;33m\u001B[0m\u001B[0m\n\u001B[1;32m-> 1116\u001B[1;33m         \u001B[0mrecord_map\u001B[0m \u001B[1;33m=\u001B[0m \u001B[0mself\u001B[0m\u001B[1;33m.\u001B[0m\u001B[0mpoll\u001B[0m\u001B[1;33m(\u001B[0m\u001B[0mtimeout_ms\u001B[0m\u001B[1;33m=\u001B[0m\u001B[0mtimeout_ms\u001B[0m\u001B[1;33m,\u001B[0m \u001B[0mupdate_offsets\u001B[0m\u001B[1;33m=\u001B[0m\u001B[1;32mFalse\u001B[0m\u001B[1;33m)\u001B[0m\u001B[1;33m\u001B[0m\u001B[1;33m\u001B[0m\u001B[0m\n\u001B[0m\u001B[0;32m   1117\u001B[0m         \u001B[1;32mfor\u001B[0m \u001B[0mtp\u001B[0m\u001B[1;33m,\u001B[0m \u001B[0mrecords\u001B[0m \u001B[1;32min\u001B[0m \u001B[0msix\u001B[0m\u001B[1;33m.\u001B[0m\u001B[0miteritems\u001B[0m\u001B[1;33m(\u001B[0m\u001B[0mrecord_map\u001B[0m\u001B[1;33m)\u001B[0m\u001B[1;33m:\u001B[0m\u001B[1;33m\u001B[0m\u001B[1;33m\u001B[0m\u001B[0m\n\u001B[0;32m   1118\u001B[0m             \u001B[1;31m# Generators are stateful, and it is possible that the tp / records\u001B[0m\u001B[1;33m\u001B[0m\u001B[1;33m\u001B[0m\u001B[1;33m\u001B[0m\u001B[0m\n",
      "\u001B[1;32mc:\\users\\a\\software\\python38\\lib\\site-packages\\kafka\\consumer\\group.py\u001B[0m in \u001B[0;36mpoll\u001B[1;34m(self, timeout_ms, max_records, update_offsets)\u001B[0m\n\u001B[0;32m    653\u001B[0m         \u001B[0mremaining\u001B[0m \u001B[1;33m=\u001B[0m \u001B[0mtimeout_ms\u001B[0m\u001B[1;33m\u001B[0m\u001B[1;33m\u001B[0m\u001B[0m\n\u001B[0;32m    654\u001B[0m         \u001B[1;32mwhile\u001B[0m \u001B[1;32mTrue\u001B[0m\u001B[1;33m:\u001B[0m\u001B[1;33m\u001B[0m\u001B[1;33m\u001B[0m\u001B[0m\n\u001B[1;32m--> 655\u001B[1;33m             \u001B[0mrecords\u001B[0m \u001B[1;33m=\u001B[0m \u001B[0mself\u001B[0m\u001B[1;33m.\u001B[0m\u001B[0m_poll_once\u001B[0m\u001B[1;33m(\u001B[0m\u001B[0mremaining\u001B[0m\u001B[1;33m,\u001B[0m \u001B[0mmax_records\u001B[0m\u001B[1;33m,\u001B[0m \u001B[0mupdate_offsets\u001B[0m\u001B[1;33m=\u001B[0m\u001B[0mupdate_offsets\u001B[0m\u001B[1;33m)\u001B[0m\u001B[1;33m\u001B[0m\u001B[1;33m\u001B[0m\u001B[0m\n\u001B[0m\u001B[0;32m    656\u001B[0m             \u001B[1;32mif\u001B[0m \u001B[0mrecords\u001B[0m\u001B[1;33m:\u001B[0m\u001B[1;33m\u001B[0m\u001B[1;33m\u001B[0m\u001B[0m\n\u001B[0;32m    657\u001B[0m                 \u001B[1;32mreturn\u001B[0m \u001B[0mrecords\u001B[0m\u001B[1;33m\u001B[0m\u001B[1;33m\u001B[0m\u001B[0m\n",
      "\u001B[1;32mc:\\users\\a\\software\\python38\\lib\\site-packages\\kafka\\consumer\\group.py\u001B[0m in \u001B[0;36m_poll_once\u001B[1;34m(self, timeout_ms, max_records, update_offsets)\u001B[0m\n\u001B[0;32m    700\u001B[0m \u001B[1;33m\u001B[0m\u001B[0m\n\u001B[0;32m    701\u001B[0m         \u001B[0mtimeout_ms\u001B[0m \u001B[1;33m=\u001B[0m \u001B[0mmin\u001B[0m\u001B[1;33m(\u001B[0m\u001B[0mtimeout_ms\u001B[0m\u001B[1;33m,\u001B[0m \u001B[0mself\u001B[0m\u001B[1;33m.\u001B[0m\u001B[0m_coordinator\u001B[0m\u001B[1;33m.\u001B[0m\u001B[0mtime_to_next_poll\u001B[0m\u001B[1;33m(\u001B[0m\u001B[1;33m)\u001B[0m \u001B[1;33m*\u001B[0m \u001B[1;36m1000\u001B[0m\u001B[1;33m)\u001B[0m\u001B[1;33m\u001B[0m\u001B[1;33m\u001B[0m\u001B[0m\n\u001B[1;32m--> 702\u001B[1;33m         \u001B[0mself\u001B[0m\u001B[1;33m.\u001B[0m\u001B[0m_client\u001B[0m\u001B[1;33m.\u001B[0m\u001B[0mpoll\u001B[0m\u001B[1;33m(\u001B[0m\u001B[0mtimeout_ms\u001B[0m\u001B[1;33m=\u001B[0m\u001B[0mtimeout_ms\u001B[0m\u001B[1;33m)\u001B[0m\u001B[1;33m\u001B[0m\u001B[1;33m\u001B[0m\u001B[0m\n\u001B[0m\u001B[0;32m    703\u001B[0m         \u001B[1;31m# after the long poll, we should check whether the group needs to rebalance\u001B[0m\u001B[1;33m\u001B[0m\u001B[1;33m\u001B[0m\u001B[1;33m\u001B[0m\u001B[0m\n\u001B[0;32m    704\u001B[0m         \u001B[1;31m# prior to returning data so that the group can stabilize faster\u001B[0m\u001B[1;33m\u001B[0m\u001B[1;33m\u001B[0m\u001B[1;33m\u001B[0m\u001B[0m\n",
      "\u001B[1;32mc:\\users\\a\\software\\python38\\lib\\site-packages\\kafka\\client_async.py\u001B[0m in \u001B[0;36mpoll\u001B[1;34m(self, timeout_ms, future)\u001B[0m\n\u001B[0;32m    600\u001B[0m                     \u001B[0mtimeout\u001B[0m \u001B[1;33m=\u001B[0m \u001B[0mmax\u001B[0m\u001B[1;33m(\u001B[0m\u001B[1;36m0\u001B[0m\u001B[1;33m,\u001B[0m \u001B[0mtimeout\u001B[0m\u001B[1;33m)\u001B[0m  \u001B[1;31m# avoid negative timeouts\u001B[0m\u001B[1;33m\u001B[0m\u001B[1;33m\u001B[0m\u001B[0m\n\u001B[0;32m    601\u001B[0m \u001B[1;33m\u001B[0m\u001B[0m\n\u001B[1;32m--> 602\u001B[1;33m                 \u001B[0mself\u001B[0m\u001B[1;33m.\u001B[0m\u001B[0m_poll\u001B[0m\u001B[1;33m(\u001B[0m\u001B[0mtimeout\u001B[0m \u001B[1;33m/\u001B[0m \u001B[1;36m1000\u001B[0m\u001B[1;33m)\u001B[0m\u001B[1;33m\u001B[0m\u001B[1;33m\u001B[0m\u001B[0m\n\u001B[0m\u001B[0;32m    603\u001B[0m \u001B[1;33m\u001B[0m\u001B[0m\n\u001B[0;32m    604\u001B[0m             \u001B[1;31m# called without the lock to avoid deadlock potential\u001B[0m\u001B[1;33m\u001B[0m\u001B[1;33m\u001B[0m\u001B[1;33m\u001B[0m\u001B[0m\n",
      "\u001B[1;32mc:\\users\\a\\software\\python38\\lib\\site-packages\\kafka\\client_async.py\u001B[0m in \u001B[0;36m_poll\u001B[1;34m(self, timeout)\u001B[0m\n\u001B[0;32m    632\u001B[0m \u001B[1;33m\u001B[0m\u001B[0m\n\u001B[0;32m    633\u001B[0m         \u001B[0mstart_select\u001B[0m \u001B[1;33m=\u001B[0m \u001B[0mtime\u001B[0m\u001B[1;33m.\u001B[0m\u001B[0mtime\u001B[0m\u001B[1;33m(\u001B[0m\u001B[1;33m)\u001B[0m\u001B[1;33m\u001B[0m\u001B[1;33m\u001B[0m\u001B[0m\n\u001B[1;32m--> 634\u001B[1;33m         \u001B[0mready\u001B[0m \u001B[1;33m=\u001B[0m \u001B[0mself\u001B[0m\u001B[1;33m.\u001B[0m\u001B[0m_selector\u001B[0m\u001B[1;33m.\u001B[0m\u001B[0mselect\u001B[0m\u001B[1;33m(\u001B[0m\u001B[0mtimeout\u001B[0m\u001B[1;33m)\u001B[0m\u001B[1;33m\u001B[0m\u001B[1;33m\u001B[0m\u001B[0m\n\u001B[0m\u001B[0;32m    635\u001B[0m         \u001B[0mend_select\u001B[0m \u001B[1;33m=\u001B[0m \u001B[0mtime\u001B[0m\u001B[1;33m.\u001B[0m\u001B[0mtime\u001B[0m\u001B[1;33m(\u001B[0m\u001B[1;33m)\u001B[0m\u001B[1;33m\u001B[0m\u001B[1;33m\u001B[0m\u001B[0m\n\u001B[0;32m    636\u001B[0m         \u001B[1;32mif\u001B[0m \u001B[0mself\u001B[0m\u001B[1;33m.\u001B[0m\u001B[0m_sensors\u001B[0m\u001B[1;33m:\u001B[0m\u001B[1;33m\u001B[0m\u001B[1;33m\u001B[0m\u001B[0m\n",
      "\u001B[1;32mc:\\users\\a\\software\\python38\\lib\\selectors.py\u001B[0m in \u001B[0;36mselect\u001B[1;34m(self, timeout)\u001B[0m\n\u001B[0;32m    321\u001B[0m         \u001B[0mready\u001B[0m \u001B[1;33m=\u001B[0m \u001B[1;33m[\u001B[0m\u001B[1;33m]\u001B[0m\u001B[1;33m\u001B[0m\u001B[1;33m\u001B[0m\u001B[0m\n\u001B[0;32m    322\u001B[0m         \u001B[1;32mtry\u001B[0m\u001B[1;33m:\u001B[0m\u001B[1;33m\u001B[0m\u001B[1;33m\u001B[0m\u001B[0m\n\u001B[1;32m--> 323\u001B[1;33m             \u001B[0mr\u001B[0m\u001B[1;33m,\u001B[0m \u001B[0mw\u001B[0m\u001B[1;33m,\u001B[0m \u001B[0m_\u001B[0m \u001B[1;33m=\u001B[0m \u001B[0mself\u001B[0m\u001B[1;33m.\u001B[0m\u001B[0m_select\u001B[0m\u001B[1;33m(\u001B[0m\u001B[0mself\u001B[0m\u001B[1;33m.\u001B[0m\u001B[0m_readers\u001B[0m\u001B[1;33m,\u001B[0m \u001B[0mself\u001B[0m\u001B[1;33m.\u001B[0m\u001B[0m_writers\u001B[0m\u001B[1;33m,\u001B[0m \u001B[1;33m[\u001B[0m\u001B[1;33m]\u001B[0m\u001B[1;33m,\u001B[0m \u001B[0mtimeout\u001B[0m\u001B[1;33m)\u001B[0m\u001B[1;33m\u001B[0m\u001B[1;33m\u001B[0m\u001B[0m\n\u001B[0m\u001B[0;32m    324\u001B[0m         \u001B[1;32mexcept\u001B[0m \u001B[0mInterruptedError\u001B[0m\u001B[1;33m:\u001B[0m\u001B[1;33m\u001B[0m\u001B[1;33m\u001B[0m\u001B[0m\n\u001B[0;32m    325\u001B[0m             \u001B[1;32mreturn\u001B[0m \u001B[0mready\u001B[0m\u001B[1;33m\u001B[0m\u001B[1;33m\u001B[0m\u001B[0m\n",
      "\u001B[1;32mc:\\users\\a\\software\\python38\\lib\\selectors.py\u001B[0m in \u001B[0;36m_select\u001B[1;34m(self, r, w, _, timeout)\u001B[0m\n\u001B[0;32m    312\u001B[0m     \u001B[1;32mif\u001B[0m \u001B[0msys\u001B[0m\u001B[1;33m.\u001B[0m\u001B[0mplatform\u001B[0m \u001B[1;33m==\u001B[0m \u001B[1;34m'win32'\u001B[0m\u001B[1;33m:\u001B[0m\u001B[1;33m\u001B[0m\u001B[1;33m\u001B[0m\u001B[0m\n\u001B[0;32m    313\u001B[0m         \u001B[1;32mdef\u001B[0m \u001B[0m_select\u001B[0m\u001B[1;33m(\u001B[0m\u001B[0mself\u001B[0m\u001B[1;33m,\u001B[0m \u001B[0mr\u001B[0m\u001B[1;33m,\u001B[0m \u001B[0mw\u001B[0m\u001B[1;33m,\u001B[0m \u001B[0m_\u001B[0m\u001B[1;33m,\u001B[0m \u001B[0mtimeout\u001B[0m\u001B[1;33m=\u001B[0m\u001B[1;32mNone\u001B[0m\u001B[1;33m)\u001B[0m\u001B[1;33m:\u001B[0m\u001B[1;33m\u001B[0m\u001B[1;33m\u001B[0m\u001B[0m\n\u001B[1;32m--> 314\u001B[1;33m             \u001B[0mr\u001B[0m\u001B[1;33m,\u001B[0m \u001B[0mw\u001B[0m\u001B[1;33m,\u001B[0m \u001B[0mx\u001B[0m \u001B[1;33m=\u001B[0m \u001B[0mselect\u001B[0m\u001B[1;33m.\u001B[0m\u001B[0mselect\u001B[0m\u001B[1;33m(\u001B[0m\u001B[0mr\u001B[0m\u001B[1;33m,\u001B[0m \u001B[0mw\u001B[0m\u001B[1;33m,\u001B[0m \u001B[0mw\u001B[0m\u001B[1;33m,\u001B[0m \u001B[0mtimeout\u001B[0m\u001B[1;33m)\u001B[0m\u001B[1;33m\u001B[0m\u001B[1;33m\u001B[0m\u001B[0m\n\u001B[0m\u001B[0;32m    315\u001B[0m             \u001B[1;32mreturn\u001B[0m \u001B[0mr\u001B[0m\u001B[1;33m,\u001B[0m \u001B[0mw\u001B[0m \u001B[1;33m+\u001B[0m \u001B[0mx\u001B[0m\u001B[1;33m,\u001B[0m \u001B[1;33m[\u001B[0m\u001B[1;33m]\u001B[0m\u001B[1;33m\u001B[0m\u001B[1;33m\u001B[0m\u001B[0m\n\u001B[0;32m    316\u001B[0m     \u001B[1;32melse\u001B[0m\u001B[1;33m:\u001B[0m\u001B[1;33m\u001B[0m\u001B[1;33m\u001B[0m\u001B[0m\n",
      "\u001B[1;31mKeyboardInterrupt\u001B[0m: "
     ]
    }
   ],
   "source": [
    "consumer = KafkaConsumer(config.TOPIC,\n",
    "                         bootstrap_servers=[config.SERVER],\n",
    "                         group_id='test',\n",
    "                         auto_offset_reset='earliest')\n",
    "for msg in consumer:\n",
    "    print(msg.value)"
   ],
   "metadata": {
    "collapsed": false,
    "pycharm": {
     "name": "#%% 消费者\n"
    }
   }
  },
  {
   "cell_type": "code",
   "execution_count": null,
   "outputs": [],
   "source": [],
   "metadata": {
    "collapsed": false,
    "pycharm": {
     "name": "#%%\n"
    }
   }
  }
 ],
 "metadata": {
  "kernelspec": {
   "display_name": "Python 3",
   "language": "python",
   "name": "python3"
  },
  "language_info": {
   "codemirror_mode": {
    "name": "ipython",
    "version": 2
   },
   "file_extension": ".py",
   "mimetype": "text/x-python",
   "name": "python",
   "nbconvert_exporter": "python",
   "pygments_lexer": "ipython2",
   "version": "2.7.6"
  }
 },
 "nbformat": 4,
 "nbformat_minor": 0
}